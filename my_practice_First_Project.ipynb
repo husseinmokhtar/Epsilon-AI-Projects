{
 "cells": [
  {
   "cell_type": "markdown",
   "metadata": {},
   "source": [
    "## Rock - Paper - Scissor"
   ]
  },
  {
   "cell_type": "code",
   "execution_count": 1,
   "metadata": {},
   "outputs": [],
   "source": [
    "import random"
   ]
  },
  {
   "cell_type": "code",
   "execution_count": null,
   "metadata": {},
   "outputs": [
    {
     "name": "stdout",
     "output_type": "stream",
     "text": [
      "Choice (1) for rock, (2) for paper, (3) for scissor\n",
      "Your turn is: 1\n",
      "User have chosen: rock\n",
      "computer have chosen: paper\n",
      "Paper win\n",
      "computer win, try again\n"
     ]
    }
   ],
   "source": [
    "# dictionary to facilitate user choice \n",
    "# 1. \n",
    "choices = {\n",
    "    1:\"rock\", \n",
    "    2:\"paper\", \n",
    "    3:\"scissor\"\n",
    "          }\n",
    "\n",
    "\n",
    "\n",
    "## Choice validation \n",
    "lose_counter = 0\n",
    "computer_choices = [1,2,3]\n",
    "while True:\n",
    "    while True:\n",
    "        print(\"Choice (1) for rock, (2) for paper, (3) for scissor\")\n",
    "        user_choice = input(\"Your turn is: \")\n",
    "        if user_choice.isdigit():\n",
    "            user_choice = int(user_choice)\n",
    "            if user_choice in computer_choices:\n",
    "                break\n",
    "            else:\n",
    "                print(\"You Turn Outside The Range\")\n",
    "                print(\"---------------------\")\n",
    "\n",
    "        else:\n",
    "            print(\"Please Enter Number Only \")\n",
    "            print(\"---------------------\")\n",
    "\n",
    "    ## User choice \n",
    "    user_choice_name = choices[user_choice]\n",
    "    print(f\"User have chosen: {user_choice_name}\")\n",
    "\n",
    "    ## Computer Choice\n",
    "    computer_choices.remove(user_choice)\n",
    "    computer_choice = random.choice(computer_choices)\n",
    "    computer_choice_name = choices[computer_choice]\n",
    "    print(f\"computer have chosen: {computer_choice_name}\")\n",
    "\n",
    "    ## Win & Loss handeling\n",
    "    if (user_choice == 1 and computer_choice ==2) or (user_choice == 2 and computer_choice ==1):\n",
    "        print(\"Paper win\")\n",
    "        win_result = \"Paper\"\n",
    "    elif (user_choice == 1 and computer_choice == 3) or (user_choice == 3 and computer_choice == 1):\n",
    "        print(\"Rock win\")\n",
    "        win_result = \"rock\"\n",
    "    else:\n",
    "        print(\"scissor win\")\n",
    "        win_result = \"scissor\"\n",
    "\n",
    "\n",
    "\n",
    "    if win_result == user_choice_name:\n",
    "        print(\"congrats you win !\")\n",
    "    else:        \n",
    "        lose_counter +=1\n",
    "        print(\"computer win, try again\")\n",
    "    if lose_counter >2:\n",
    "        break \n",
    "\n",
    "    paly_again = input(\"Do you want to play againg? \")\n",
    "    if paly_again ==\"No\":\n",
    "        break"
   ]
  },
  {
   "cell_type": "code",
   "execution_count": 3,
   "metadata": {},
   "outputs": [
    {
     "data": {
      "text/plain": [
       "[2, 3]"
      ]
     },
     "execution_count": 3,
     "metadata": {},
     "output_type": "execute_result"
    }
   ],
   "source": [
    "computer_choices"
   ]
  },
  {
   "cell_type": "code",
   "execution_count": null,
   "metadata": {},
   "outputs": [],
   "source": []
  }
 ],
 "metadata": {
  "kernelspec": {
   "display_name": "Python 3 (ipykernel)",
   "language": "python",
   "name": "python3"
  },
  "language_info": {
   "codemirror_mode": {
    "name": "ipython",
    "version": 3
   },
   "file_extension": ".py",
   "mimetype": "text/x-python",
   "name": "python",
   "nbconvert_exporter": "python",
   "pygments_lexer": "ipython3",
   "version": "3.9.15"
  }
 },
 "nbformat": 4,
 "nbformat_minor": 4
}
