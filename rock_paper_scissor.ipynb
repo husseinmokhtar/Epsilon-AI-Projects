{
 "cells": [
  {
   "cell_type": "code",
   "execution_count": 1,
   "metadata": {},
   "outputs": [],
   "source": [
    "import random"
   ]
  },
  {
   "cell_type": "code",
   "execution_count": 12,
   "metadata": {},
   "outputs": [],
   "source": [
    "mList = [1, 2, 3]"
   ]
  },
  {
   "cell_type": "code",
   "execution_count": 19,
   "metadata": {},
   "outputs": [
    {
     "data": {
      "text/plain": [
       "3"
      ]
     },
     "execution_count": 19,
     "metadata": {},
     "output_type": "execute_result"
    }
   ],
   "source": [
    "random.choice(mList)"
   ]
  },
  {
   "cell_type": "code",
   "execution_count": 1,
   "metadata": {},
   "outputs": [
    {
     "name": "stdout",
     "output_type": "stream",
     "text": [
      "Enter your choice Rock (1), Paper (2) or Scissor (3)\n",
      "Your Turn: 1\n",
      "User have chosen rock\n"
     ]
    },
    {
     "ename": "NameError",
     "evalue": "name 'random' is not defined",
     "output_type": "error",
     "traceback": [
      "\u001b[1;31m---------------------------------------------------------------------------\u001b[0m",
      "\u001b[1;31mNameError\u001b[0m                                 Traceback (most recent call last)",
      "\u001b[1;32m<ipython-input-1-c5425cf2a1ef>\u001b[0m in \u001b[0;36m<module>\u001b[1;34m\u001b[0m\n\u001b[0;32m     30\u001b[0m     \u001b[0mprint\u001b[0m\u001b[1;33m(\u001b[0m\u001b[1;34mf\"User have chosen {choice_name}\"\u001b[0m\u001b[1;33m)\u001b[0m\u001b[1;33m\u001b[0m\u001b[1;33m\u001b[0m\u001b[0m\n\u001b[0;32m     31\u001b[0m     \u001b[0mcomputer_choices\u001b[0m\u001b[1;33m.\u001b[0m\u001b[0mremove\u001b[0m\u001b[1;33m(\u001b[0m\u001b[0mchoice\u001b[0m\u001b[1;33m)\u001b[0m\u001b[1;33m\u001b[0m\u001b[1;33m\u001b[0m\u001b[0m\n\u001b[1;32m---> 32\u001b[1;33m     \u001b[0mcomp_choice\u001b[0m \u001b[1;33m=\u001b[0m \u001b[0mrandom\u001b[0m\u001b[1;33m.\u001b[0m\u001b[0mchoice\u001b[0m\u001b[1;33m(\u001b[0m\u001b[0mcomputer_choices\u001b[0m\u001b[1;33m)\u001b[0m\u001b[1;33m\u001b[0m\u001b[1;33m\u001b[0m\u001b[0m\n\u001b[0m\u001b[0;32m     33\u001b[0m     \u001b[0mcomp_name\u001b[0m \u001b[1;33m=\u001b[0m \u001b[0mchoices\u001b[0m\u001b[1;33m[\u001b[0m\u001b[0mcomp_choice\u001b[0m\u001b[1;33m]\u001b[0m\u001b[1;33m\u001b[0m\u001b[1;33m\u001b[0m\u001b[0m\n\u001b[0;32m     34\u001b[0m     \u001b[0mprint\u001b[0m\u001b[1;33m(\u001b[0m\u001b[1;34mf\"Computer have chosen {comp_name}\"\u001b[0m\u001b[1;33m)\u001b[0m\u001b[1;33m\u001b[0m\u001b[1;33m\u001b[0m\u001b[0m\n",
      "\u001b[1;31mNameError\u001b[0m: name 'random' is not defined"
     ]
    }
   ],
   "source": [
    "# create dict named choices \n",
    "#1 => rock\n",
    "#2 => paper\n",
    "#3 => scissor\n",
    "choices = {\n",
    "    1:'rock',\n",
    "    2:'paper',\n",
    "    3:'scissor'\n",
    "}\n",
    "while True:\n",
    "    computer_choices = [1, 2, 3]\n",
    "    # while loop \n",
    "    invalid_input = True\n",
    "    while invalid_input:\n",
    "        print(\"Enter your choice Rock (1), Paper (2) or Scissor (3)\")\n",
    "        choice = input(\"Your Turn: \")\n",
    "        if choice.isdigit():\n",
    "            choice = int(choice)\n",
    "            if choice in computer_choices:\n",
    "                invalid_input = False\n",
    "            else:\n",
    "                print('Your number must be from 1 to 3')\n",
    "        else:\n",
    "            print('Please enter numbers only')\n",
    "\n",
    "\n",
    "\n",
    "    # choice is valid input\n",
    "    choice_name = choices[choice]\n",
    "    print(f\"User have chosen {choice_name}\")\n",
    "    computer_choices.remove(choice)\n",
    "    comp_choice = random.choice(computer_choices)\n",
    "    comp_name = choices[comp_choice]\n",
    "    print(f\"Computer have chosen {comp_name}\")\n",
    "\n",
    "    #1 => rock\n",
    "    #2 => paper\n",
    "    #3 => scissor\n",
    "\n",
    "    if (choice == 1 and comp_choice==2) or (choice == 2 and comp_choice==1):\n",
    "        print('Paper wins')\n",
    "        win_result = 'paper'\n",
    "    elif (choice == 1 and comp_choice==3) or (choice == 3 and comp_choice==1):\n",
    "        print('Rock wins')\n",
    "        win_result = 'rock'\n",
    "    else:\n",
    "        print('Scissor wins')\n",
    "        win_result = 'scissor'\n",
    "\n",
    "    if win_result == choice_name:\n",
    "        print('Congrats, you win')\n",
    "    else:\n",
    "        print('Computer wins, try again!')\n",
    "\n",
    "\n",
    "    ans = input(\"Do you want to play again?! (n)\")\n",
    "    if ans.lower() == 'n':\n",
    "        break\n",
    "\n"
   ]
  },
  {
   "cell_type": "code",
   "execution_count": null,
   "metadata": {},
   "outputs": [],
   "source": []
  }
 ],
 "metadata": {
  "kernelspec": {
   "display_name": "Python 3",
   "language": "python",
   "name": "python3"
  },
  "language_info": {
   "codemirror_mode": {
    "name": "ipython",
    "version": 3
   },
   "file_extension": ".py",
   "mimetype": "text/x-python",
   "name": "python",
   "nbconvert_exporter": "python",
   "pygments_lexer": "ipython3",
   "version": "3.7.6"
  }
 },
 "nbformat": 4,
 "nbformat_minor": 5
}
