{
 "cells": [
  {
   "cell_type": "code",
   "execution_count": 105,
   "id": "979e1a83",
   "metadata": {},
   "outputs": [
    {
     "name": "stdout",
     "output_type": "stream",
     "text": [
      "Choice 1 for Rock, 2 for Paper, 3 for Scissor: \n",
      "Your Turn: 2\n",
      "User choice: Paper\n",
      "Computer choice: Rock\n",
      "Paper,  win !!!\n",
      "Congrats,You win !!!\n",
      "Do you want to quit (n) ? N\n"
     ]
    }
   ],
   "source": [
    "## Import lib for random choice\n",
    "import random\n",
    "\n",
    "## Create a dictionary with for choice list \n",
    "choices = {1 : \"Rock\", 2 : \"Paper\", 3 : \"Scissor\"}\n",
    "computer_choices = [1,2,3]\n",
    "x = 0\n",
    "\n",
    "## User Choice\n",
    "while True:\n",
    "    while x < 5:\n",
    "        user_choice = input(\"Choice 1 for Rock, 2 for Paper, 3 for Scissor: \\nYour Turn: \")\n",
    "        if user_choice.isdigit():\n",
    "            user_choice = int(user_choice)\n",
    "            if user_choice in computer_choices:\n",
    "                print(f\"User choice: {choices[user_choice]}\")\n",
    "\n",
    "                break\n",
    "            else:\n",
    "                print(\"You have to choose from list\")\n",
    "                x+=1\n",
    "        else:\n",
    "            print(\"You have to choose Number\")\n",
    "            x+=1\n",
    "    computer_choices.remove(user_choice)\n",
    "\n",
    "    ## Computer Choice\n",
    "    computer_choice = random.choice(computer_choices)\n",
    "    print(f\"Computer choice: {choices[int(computer_choice)]}\")\n",
    "\n",
    "    ## Logic\n",
    "    if (user_choice == 1 and computer_choice== 2) or (user_choice == 2 and computer_choice == 1):\n",
    "        print(\"Paper,  win !!!\")\n",
    "        win_result = 'Paper'\n",
    "    elif ([user_choice] == 1 and computer_choice == 3 ) or (user_choice == 3 and computer_choice == 2):\n",
    "        print(\"Rock,  win !!!\")\n",
    "        win_result = 'Rock'\n",
    "    else:\n",
    "        print(\"Scissor,  win !!!\")\n",
    "        win_result = 'Scissor'\n",
    "\n",
    "    if win_result == choices[user_choice]:\n",
    "        print(\"Congrats,You win !!!\")\n",
    "    else:\n",
    "        print(\"Computer Win , Try again\")\n",
    "\n",
    "    ans = input(\"Do you want to quit (n) ? \")\n",
    "    if ans.lower() ==\"n\":\n",
    "        break"
   ]
  },
  {
   "cell_type": "code",
   "execution_count": null,
   "id": "f3b58439",
   "metadata": {},
   "outputs": [],
   "source": []
  }
 ],
 "metadata": {
  "kernelspec": {
   "display_name": "Python 3 (ipykernel)",
   "language": "python",
   "name": "python3"
  },
  "language_info": {
   "codemirror_mode": {
    "name": "ipython",
    "version": 3
   },
   "file_extension": ".py",
   "mimetype": "text/x-python",
   "name": "python",
   "nbconvert_exporter": "python",
   "pygments_lexer": "ipython3",
   "version": "3.9.15"
  }
 },
 "nbformat": 4,
 "nbformat_minor": 5
}
